{
 "cells": [
  {
   "cell_type": "code",
   "execution_count": null,
   "metadata": {},
   "outputs": [
    {
     "name": "stdout",
     "output_type": "stream",
     "text": [
      "__ __ __ __ __ __ __ __ \n"
     ]
    }
   ],
   "source": [
    "def generate_random_word():\n",
    "    #from https://www.hangmanwords.com/words\n",
    "    import random\n",
    "    lines = open(\"wordslist.txt\").readlines() \n",
    "    line = lines[0] \n",
    "    listofwords = line.split() \n",
    "    word = random.choice(listofwords)\n",
    "    return word\n",
    "    \n",
    "def print_word(word, guessed_letter, guessed_letters):\n",
    "    listed_letters = list(word)\n",
    "    displayed_word = \"\"\n",
    "    for letter in listed_letters:\n",
    "        if letter in guessed_letters:\n",
    "            displayed_word = displayed_word + \" \" + letter\n",
    "        else:\n",
    "            displayed_word = displayed_word + \" __\"\n",
    "    print(displayed_word)\n",
    "    return displayed_word\n",
    "\n",
    "def win(word, guessed_letters):\n",
    "    listed_letters = list(word)\n",
    "    displayed_word = \"\"\n",
    "    for letter in listed_letters:\n",
    "        if letter in guessed_letters:\n",
    "            displayed_word = displayed_word + \" \" + letter\n",
    "        else:\n",
    "            displayed_word = displayed_word + \" __\"\n",
    "    if \" __\" not in displayed_word:\n",
    "        winner = \"yes\"\n",
    "    else:\n",
    "        winner = \"no\"\n",
    "    return winner\n",
    "\n",
    "def lose_print_word(word, guessed_letters):\n",
    "    listed_letters = list(word)\n",
    "    displayed_word = \"\"\n",
    "    for letter in listed_letters:\n",
    "        if letter in guessed_letters:\n",
    "            displayed_word = displayed_word + \" \" + letter\n",
    "        else:\n",
    "            displayed_word = displayed_word + \" _\" + letter + \"_ \"\n",
    "    print(displayed_word)\n",
    "    return word \n",
    "\n",
    "def play_hangman():\n",
    "    winner = \"no\"\n",
    "    want_to_play = True\n",
    "    while (want_to_play):\n",
    "        guessed_letters = []\n",
    "        guesses_left = 6\n",
    "        word = str(generate_random_word())\n",
    "        print(\"__ \"*len(word))\n",
    "        letter = input(\"Guess letter:\")\n",
    "        done = False\n",
    "        while not done:\n",
    "            if letter in guessed_letters:\n",
    "                guesses_left = guesses_left - 1\n",
    "                print(\"You already guessed\", letter)\n",
    "            elif letter not in word:\n",
    "                guessed_letters.append(letter)\n",
    "                guesses_left = guesses_left - 1\n",
    "                winner = win(word, guessed_letters)\n",
    "                print(letter, \"is not in the word.\")\n",
    "            else:\n",
    "                guessed_letters.append(letter)\n",
    "                winner = win(word, guessed_letters)\n",
    "                print(letter, \"is in the word.\")\n",
    "            if winner == \"yes\":\n",
    "                done = True\n",
    "                print(\"CONGRATULATIONS! You won the game.\")\n",
    "                print_word(word, letter, guessed_letters)\n",
    "            elif guesses_left == 0:\n",
    "                done = True\n",
    "                print(\"Sorry! You ran out of guesses. You lose.\")\n",
    "                lose_print_word(word, guessed_letters)\n",
    "            else:\n",
    "                print_word(word, letter, guessed_letters)\n",
    "                letter = input(\"Guess letter:\") \n",
    "        want_to_play = input(\"Play another round of hangman? Y/N\")\n",
    "        if want_to_play == \"Y\":\n",
    "            want_to_play = True\n",
    "        else:\n",
    "            want_to_play = False\n",
    "            \n",
    "play_hangman()"
   ]
  },
  {
   "cell_type": "code",
   "execution_count": null,
   "metadata": {},
   "outputs": [],
   "source": []
  },
  {
   "cell_type": "code",
   "execution_count": null,
   "metadata": {},
   "outputs": [],
   "source": []
  },
  {
   "cell_type": "code",
   "execution_count": null,
   "metadata": {},
   "outputs": [],
   "source": []
  }
 ],
 "metadata": {
  "kernelspec": {
   "display_name": "Python 3",
   "language": "python",
   "name": "python3"
  },
  "language_info": {
   "codemirror_mode": {
    "name": "ipython",
    "version": 3
   },
   "file_extension": ".py",
   "mimetype": "text/x-python",
   "name": "python",
   "nbconvert_exporter": "python",
   "pygments_lexer": "ipython3",
   "version": "3.7.4"
  }
 },
 "nbformat": 4,
 "nbformat_minor": 4
}
