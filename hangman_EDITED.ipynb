{
 "cells": [
  {
   "cell_type": "markdown",
   "metadata": {},
   "source": [
    "## Hangman notes\n",
    "Your hangman homework has a number of different ways it can be completed. If you are having trouble completing it, you can use this notebook to guide you to a solution.\n",
    "\n",
    "## Describe the Algorithm\n",
    "Usually when we start writing a program we decide how we want the program to work. This is called the algorithm underlying the program.\n",
    "\n",
    "For hangman it might be something like this.\n",
    "\n",
    "1. Ask if they want to play a game, if not then return\n",
    "2. Generate a random word (w) Also initialize the counter variable which keeps track of their remaining guesses and initialize a variable to keep track of the letters they've guessed already.\n",
    "3. Ask the user for a letter and add it to the list of guessed letters\n",
    "4. If the letter has already been guessed or is not in the word, add one to the counter and print a message saying they didn't guess a new letter\n",
    "5. Otherwise, congratulate them and print the letters in the word, but only showing the letters they have guessed.\n",
    "6. If they have guessed all the letters or they have used up all of their guesses end the game\n",
    "7. Otherwise continue the game"
   ]
  },
  {
   "cell_type": "markdown",
   "metadata": {},
   "source": [
    "## Pseudocode\n",
    "The next step is to write the code as a combination of Python and English where the Python captures the \"top-level\" parts of the algorithm.\n",
    "\n",
    "Making this more Python-like we can rewrite it as:"
   ]
  },
  {
   "cell_type": "raw",
   "metadata": {},
   "source": [
    "  #This is Hickey's pseudocode\n",
    "  want_to_play = True\n",
    "#TESTING\n",
    "\n",
    "    while (want_to_play):\n",
    "        guessed_letters = []\n",
    "        guesses_left = 6\n",
    "        word = \"generate a random word\"\n",
    "        letter = \"ask the user for a letter\"\n",
    "        done = False\n",
    "        while not done:\n",
    "            if letter in guessed_letters:\n",
    "                \"subtract one from guesses_left\"\n",
    "                \"and tell them they already guessed that letter\"\n",
    "            elif letter not in word:\n",
    "                \"add letter to guessed letters\"\n",
    "                \"tell user the letter is not in the word\"\n",
    "                \"subtract one from the guesses_left\"\n",
    "            else:\n",
    "                \"add letter to guessed letters\"\n",
    "                \"tell user the letter is in the word\"\n",
    "            if \"all the letters in the word have been guessed\":\n",
    "                \"set done to be true and tell the user they won!\"\n",
    "            elif \"the number of guesses left is zero\":\n",
    "                \"set done to be true and tell the user they lost!\"\n",
    "            else:\n",
    "                \"print the word with a dash for each letter not in guessed_letters\"\n",
    "                letter = \"ask the user for another letter\"\n",
    "        want_to_play = \"ask the user if they want to play another game..."
   ]
  },
  {
   "cell_type": "markdown",
   "metadata": {},
   "source": [
    "## Testing\n",
    "Try to trace this program to see if the logic is correct\n",
    "Play a few games and see if we have forgotten anything..."
   ]
  },
  {
   "cell_type": "code",
   "execution_count": 2,
   "metadata": {},
   "outputs": [
    {
     "name": "stdout",
     "output_type": "stream",
     "text": [
      "__ __ __ \n"
     ]
    },
    {
     "name": "stdin",
     "output_type": "stream",
     "text": [
      "Guess letter: c\n"
     ]
    },
    {
     "name": "stdout",
     "output_type": "stream",
     "text": [
      "c is in the word.\n"
     ]
    },
    {
     "name": "stdin",
     "output_type": "stream",
     "text": [
      "Guess letter: a\n"
     ]
    },
    {
     "name": "stdout",
     "output_type": "stream",
     "text": [
      "a is in the word.\n"
     ]
    },
    {
     "name": "stdin",
     "output_type": "stream",
     "text": [
      "Guess letter: t\n"
     ]
    },
    {
     "name": "stdout",
     "output_type": "stream",
     "text": [
      "t is in the word.\n",
      "CONGRATULATIONS! You won the game.\n"
     ]
    },
    {
     "name": "stdin",
     "output_type": "stream",
     "text": [
      "Play another round of hangman? Y/N N\n"
     ]
    }
   ],
   "source": [
    "def win(word, guessed_letters):\n",
    "    listed_letters = list(word)\n",
    "    displayed_word = \"\"\n",
    "    for letter in listed_letters:\n",
    "        if letter in guessed_letters:\n",
    "            displayed_word = displayed_word + \" \" + letter\n",
    "        else:\n",
    "            displayed_word = displayed_word + \" __\"\n",
    "    if \" __\" not in displayed_word:\n",
    "        winner = \"yes\"\n",
    "    else:\n",
    "        winner = \"no\"\n",
    "    return winner\n",
    "\n",
    "def play_hangman():\n",
    "    winner = \"no\"\n",
    "    want_to_play = True\n",
    "    while (want_to_play):\n",
    "        guessed_letters = []\n",
    "        guesses_left = 6\n",
    "        word = str(\"cat\")\n",
    "        print(\"__ \"*len(word))\n",
    "        letter = input(\"Guess letter:\")\n",
    "        done = False\n",
    "        while not done:\n",
    "            if letter in guessed_letters:\n",
    "                guesses_left = guesses_left - 1\n",
    "                print(\"You already guessed\", letter)\n",
    "            elif letter not in word:\n",
    "                guessed_letters.append(letter)\n",
    "                guesses_left = guesses_left - 1\n",
    "                winner = win(word, guessed_letters)\n",
    "                print(letter, \"is not in the word.\")\n",
    "            else:\n",
    "                guessed_letters.append(letter)\n",
    "                winner = win(word, guessed_letters)\n",
    "                print(letter, \"is in the word.\")\n",
    "            if winner == \"yes\":\n",
    "                done = True\n",
    "                print(\"CONGRATULATIONS! You won the game.\")\n",
    "                #insert function that displays word\n",
    "            elif guesses_left == 0:\n",
    "                done = True\n",
    "                print(\"Sorry! You ran out of guesses. You lose.\")\n",
    "                #insert function that displays word\n",
    "            else:\n",
    "                #insert function that displays word\n",
    "                letter = input(\"Guess letter:\") \n",
    "        want_to_play = input(\"Play another round of hangman? Y/N\")\n",
    "        if want_to_play == \"Y\":\n",
    "            want_to_play = True\n",
    "        else:\n",
    "            want_to_play = False\n",
    "            \n",
    "play_hangman()"
   ]
  },
  {
   "cell_type": "markdown",
   "metadata": {},
   "source": [
    "## Topdown development\n",
    "Now that we have a highlevel view of the program and have tested it, lets start writing the lowerlevel code.\n",
    "\n",
    "\"generate a random word\" could be a function call \n",
    "```python\n",
    "  word = generate_random_word()\n",
    "```\n",
    "and then you'll need to define the generate_random_word function. The easiest approach is to\n",
    "import the random module and use the random.choice(list) function which returns a random element\n",
    "from the list. Write the code for the generate_random_word function where you just write a list of words, e.g. \n",
    "``` python\n",
    "words = \"dog cat mouse deer snake\".split()\n",
    "```\n",
    "Try writing the generate_random_word function and testing it...\n",
    "Even better is to download a list of English words, read them (as we did for Romeo and Juliet),\n",
    "and then use the random.choice function of the random module to pick a random word from that list."
   ]
  },
  {
   "cell_type": "code",
   "execution_count": 43,
   "metadata": {},
   "outputs": [],
   "source": [
    "def generate_random_word():\n",
    "    #from https://www.hangmanwords.com/words\n",
    "    import random\n",
    "    words = [\"abruptly\", \"absurd\", \"abyss\", \"affix\", \"askew\", \"avenue\", \"awkward\", \"axiom\", \"azure\", \"bagpipes\", \"bandwagon\", \"banjo\", \"bayou\", \"beekeeper\", \"bikini\", \"blitz\", \"blizzard\", \"boggle\", \"bookworm\", \"boxcar\", \"boxful\", \"buckaroo\", \"buffalo\", \"buffoon\", \"buxom\", \"buzzard\", \"buzzing\", \"buzzwords\", \"caliph\", \"cobweb\", \"cockiness\", \"croquet\", \"crypt\", \"curacao\", \"cycle\", \"daiquiri\", \"dirndl\", \"disavow\", \"dizzying\", \"duplex\", \"dwarves\", \"embezzle\", \"equip\", \"espionage\", \"euouae\", \"exodus\", \"faking\", \"fishhook\", \"fixable\", \"fjord\", \"flapjack\", \"flopping\", \"fluffiness\", \"flyby\", \"foxglove\", \"frazzled\", \"frizzled\", \"fuchsia\", \"funny\", \"gabby\", \"galaxy\", \"galvanize\", \"gazebo\", \"giaour\", \"gizmo\", \"glowworm\", \"glyph\", \"gnarly\", \"gnostic\", \"gossip\", \"grogginess\", \"haiku\", \"haphazard\", \"hyphen\", \"iatrogenic\", \"icebox\", \"injury\", \"ivory\", \"ivy\", \"jackpot\", \"jaundice\", \"jawbreaker\", \"jaywalk\", \"jazziest\", \"jazzy\", \"jelly\", \"jigsaw\", \"jinx\", \"jiujitsu\", \"jockey\", \"jogging\", \"joking\", \"jovial\", \"joyful\", \"juicy\", \"jukebox\", \"jumbo\", \"kayak\", \"kazoo\", \"keyhole\", \"khaki\", \"kilobyte\", \"kiosk\", \"kitsch\", \"kiwifruit\", \"klutz\", \"knapsack\", \"larynx\", \"lengths\", \"lucky\", \"luxury\", \"lymph\", \"marquis\", \"matrix\", \"megahertz\", \"microwave\", \"mnemonic\", \"mystify\", \"naphtha\", \"nightclub\", \"nowadays\", \"numbskull\", \"nymph\", \"onyx\", \"ovary\", \"oxidize\", \"oxygen\", \"pajama\", \"peekaboo\", \"phlegm\", \"pixel\", \"pizazz\", \"pneumonia\", \"polka\", \"pshaw\", \"psyche\", \"puppy\", \"puzzling\", \"quartz\", \"queue\", \"quips\", \"quixotic\", \"quiz\", \"quizzes\", \"quorum\", \"razzmatazz\", \"rhubarb\", \"rhythm\", \"rickshaw\", \"schnapps\", \"scratch\", \"shiv\", \"snazzy\", \"sphinx\", \"spritz\", \"squawk\", \"staff\", \"strength\", \"strengths\", \"stretch\", \"stronghold\", \"stymied\", \"subway\", \"swivel\", \"syndrome\", \"thriftless\", \"thumbscrew\", \"topaz\", \"transcript\", \"transgress\", \"transplant\", \"triphthong\", \"twelfth\", \"twelfths\", \"unknown\", \"unworthy\", \"unzip\", \"uptown\", \"vaporize\", \"vixen\", \"vodka\", \"voodoo\", \"vortex\", \"voyeurism\", \"walkway\", \"waltz\", \"wave\", \"wavy\", \"waxy\", \"wellspring\", \"wheezy\", \"whiskey\", \"whizzing\", \"whomever\", \"wimpy\", \"witchcraft\", \"wizard\", \"woozy\", \"wristwatch\", \"wyvern\", \"xylophone\", \"yachtsman\", \"yippee\", \"yoked\", \"youthful\", \"yummy\", \"zephyr\", \"zigzag\", \"zigzagging\", \"zilch\", \"zipper\", \"zodiac\"]\n",
    "    #words = [\"fat\", \"cat\"] #This is to test the game with a word you know\n",
    "    word = random.choice(words)\n",
    "    return word"
   ]
  },
  {
   "cell_type": "markdown",
   "metadata": {},
   "source": [
    "\"print the word with a dash for each letter not in guessed_letters\"\n",
    "\n",
    "should also be a function, \n",
    "```python\n",
    "print_word(word,guessed_letter)\n",
    "```\n",
    "which prints each letter of the word but prints a dash if the letter has not been guessed.\n",
    "Try writing that function here and testing it."
   ]
  },
  {
   "cell_type": "code",
   "execution_count": 42,
   "metadata": {},
   "outputs": [],
   "source": [
    "def print_word(word, guessed_letter, guessed_letters):\n",
    "    listed_letters = list(word)\n",
    "    displayed_word = \"\"\n",
    "    for letter in listed_letters:\n",
    "        if letter in guessed_letters:\n",
    "            displayed_word = displayed_word + \" \" + letter\n",
    "        else:\n",
    "            displayed_word = displayed_word + \" __\"\n",
    "    print(displayed_word)\n",
    "    return displayed_word\n",
    "\n",
    "def lose_print_word(word, guessed_letters):\n",
    "    listed_letters = list(word)\n",
    "    displayed_word = \"\"\n",
    "    for letter in listed_letters:\n",
    "        if letter in guessed_letters:\n",
    "            displayed_word = displayed_word + \" \" + letter\n",
    "        else:\n",
    "            displayed_word = displayed_word + \" _\" + letter + \"_ \"\n",
    "    print(displayed_word)\n",
    "    return word "
   ]
  },
  {
   "cell_type": "markdown",
   "metadata": {},
   "source": [
    "## Putting it all together\n",
    "Now try to write the entire play_hangman game with all these pieces.\n"
   ]
  },
  {
   "cell_type": "code",
   "execution_count": null,
   "metadata": {},
   "outputs": [
    {
     "name": "stdout",
     "output_type": "stream",
     "text": [
      "__ __ __ \n"
     ]
    }
   ],
   "source": [
    "#code to be used with Flask\n",
    "\n",
    "def generate_random_word():\n",
    "    #from https://www.hangmanwords.com/words\n",
    "    import random\n",
    "    words = [\"abruptly\", \"absurd\", \"abyss\", \"affix\", \"askew\", \"avenue\", \"awkward\", \"axiom\", \"azure\", \"bagpipes\", \"bandwagon\", \"banjo\", \"bayou\", \"beekeeper\", \"bikini\", \"blitz\", \"blizzard\", \"boggle\", \"bookworm\", \"boxcar\", \"boxful\", \"buckaroo\", \"buffalo\", \"buffoon\", \"buxom\", \"buzzard\", \"buzzing\", \"buzzwords\", \"caliph\", \"cobweb\", \"cockiness\", \"croquet\", \"crypt\", \"curacao\", \"cycle\", \"daiquiri\", \"dirndl\", \"disavow\", \"dizzying\", \"duplex\", \"dwarves\", \"embezzle\", \"equip\", \"espionage\", \"euouae\", \"exodus\", \"faking\", \"fishhook\", \"fixable\", \"fjord\", \"flapjack\", \"flopping\", \"fluffiness\", \"flyby\", \"foxglove\", \"frazzled\", \"frizzled\", \"fuchsia\", \"funny\", \"gabby\", \"galaxy\", \"galvanize\", \"gazebo\", \"giaour\", \"gizmo\", \"glowworm\", \"glyph\", \"gnarly\", \"gnostic\", \"gossip\", \"grogginess\", \"haiku\", \"haphazard\", \"hyphen\", \"iatrogenic\", \"icebox\", \"injury\", \"ivory\", \"ivy\", \"jackpot\", \"jaundice\", \"jawbreaker\", \"jaywalk\", \"jazziest\", \"jazzy\", \"jelly\", \"jigsaw\", \"jinx\", \"jiujitsu\", \"jockey\", \"jogging\", \"joking\", \"jovial\", \"joyful\", \"juicy\", \"jukebox\", \"jumbo\", \"kayak\", \"kazoo\", \"keyhole\", \"khaki\", \"kilobyte\", \"kiosk\", \"kitsch\", \"kiwifruit\", \"klutz\", \"knapsack\", \"larynx\", \"lengths\", \"lucky\", \"luxury\", \"lymph\", \"marquis\", \"matrix\", \"megahertz\", \"microwave\", \"mnemonic\", \"mystify\", \"naphtha\", \"nightclub\", \"nowadays\", \"numbskull\", \"nymph\", \"onyx\", \"ovary\", \"oxidize\", \"oxygen\", \"pajama\", \"peekaboo\", \"phlegm\", \"pixel\", \"pizazz\", \"pneumonia\", \"polka\", \"pshaw\", \"psyche\", \"puppy\", \"puzzling\", \"quartz\", \"queue\", \"quips\", \"quixotic\", \"quiz\", \"quizzes\", \"quorum\", \"razzmatazz\", \"rhubarb\", \"rhythm\", \"rickshaw\", \"schnapps\", \"scratch\", \"shiv\", \"snazzy\", \"sphinx\", \"spritz\", \"squawk\", \"staff\", \"strength\", \"strengths\", \"stretch\", \"stronghold\", \"stymied\", \"subway\", \"swivel\", \"syndrome\", \"thriftless\", \"thumbscrew\", \"topaz\", \"transcript\", \"transgress\", \"transplant\", \"triphthong\", \"twelfth\", \"twelfths\", \"unknown\", \"unworthy\", \"unzip\", \"uptown\", \"vaporize\", \"vixen\", \"vodka\", \"voodoo\", \"vortex\", \"voyeurism\", \"walkway\", \"waltz\", \"wave\", \"wavy\", \"waxy\", \"wellspring\", \"wheezy\", \"whiskey\", \"whizzing\", \"whomever\", \"wimpy\", \"witchcraft\", \"wizard\", \"woozy\", \"wristwatch\", \"wyvern\", \"xylophone\", \"yachtsman\", \"yippee\", \"yoked\", \"youthful\", \"yummy\", \"zephyr\", \"zigzag\", \"zigzagging\", \"zilch\", \"zipper\", \"zodiac\"]\n",
    "    #words = [\"cat\", \"fat\"] #these words are used to test the game\n",
    "    word = random.choice(words)\n",
    "    return word\n",
    "\n",
    "def print_word(word, guessed_letter, guessed_letters):\n",
    "    listed_letters = list(word)\n",
    "    displayed_word = \"\"\n",
    "    for letter in listed_letters:\n",
    "        if letter in guessed_letters:\n",
    "            displayed_word = displayed_word + \" \" + letter\n",
    "        else:\n",
    "            displayed_word = displayed_word + \" __\"\n",
    "    print(displayed_word)\n",
    "    return displayed_word\n",
    "\n",
    "def win(word, guessed_letters):\n",
    "    listed_letters = list(word)\n",
    "    displayed_word = \"\"\n",
    "    for letter in listed_letters:\n",
    "        if letter in guessed_letters:\n",
    "            displayed_word = displayed_word + \" \" + letter\n",
    "        else:\n",
    "            displayed_word = displayed_word + \" __\"\n",
    "    if \" __\" not in displayed_word:\n",
    "        winner = \"yes\"\n",
    "    else:\n",
    "        winner = \"no\"\n",
    "    return winner\n",
    "\n",
    "def lose_print_word(word, guessed_letters):\n",
    "    listed_letters = list(word)\n",
    "    displayed_word = \"\"\n",
    "    for letter in listed_letters:\n",
    "        if letter in guessed_letters:\n",
    "            displayed_word = displayed_word + \" \" + letter\n",
    "        else:\n",
    "            displayed_word = displayed_word + \" _\" + letter + \"_ \"\n",
    "    print(displayed_word)\n",
    "    return word \n",
    "\n",
    "def play_hangman():\n",
    "    winner = \"no\"\n",
    "    want_to_play = True\n",
    "    while (want_to_play):\n",
    "        guessed_letters = []\n",
    "        guesses_left = 6\n",
    "        word = str(generate_random_word())\n",
    "        print(\"__ \"*len(word))\n",
    "        letter = input(\"Guess letter:\")\n",
    "        done = False\n",
    "        while not done:\n",
    "            if letter in guessed_letters:\n",
    "                guesses_left = guesses_left - 1\n",
    "                print(\"You already guessed\", letter)\n",
    "            elif letter not in word:\n",
    "                guessed_letters.append(letter)\n",
    "                guesses_left = guesses_left - 1\n",
    "                winner = win(word, guessed_letters)\n",
    "                print(letter, \"is not in the word.\")\n",
    "            else:\n",
    "                guessed_letters.append(letter)\n",
    "                winner = win(word, guessed_letters)\n",
    "                print(letter, \"is in the word.\")\n",
    "            if winner == \"yes\":\n",
    "                done = True\n",
    "                print(\"CONGRATULATIONS! You won the game.\")\n",
    "                print_word(word, letter, guessed_letters)\n",
    "            elif guesses_left == 0:\n",
    "                done = True\n",
    "                print(\"Sorry! You ran out of guesses. You lose.\")\n",
    "                lose_print_word(word, guessed_letters)\n",
    "            else:\n",
    "                print_word(word, letter, guessed_letters)\n",
    "                letter = input(\"Guess letter:\") \n",
    "        want_to_play = input(\"Play another round of hangman? Y/N\")\n",
    "        if want_to_play == \"Y\":\n",
    "            want_to_play = True\n",
    "        else:\n",
    "            want_to_play = False\n",
    "            \n",
    "play_hangman()"
   ]
  },
  {
   "cell_type": "code",
   "execution_count": null,
   "metadata": {},
   "outputs": [],
   "source": []
  },
  {
   "cell_type": "code",
   "execution_count": null,
   "metadata": {},
   "outputs": [],
   "source": []
  }
 ],
 "metadata": {
  "kernelspec": {
   "display_name": "Python 3",
   "language": "python",
   "name": "python3"
  },
  "language_info": {
   "codemirror_mode": {
    "name": "ipython",
    "version": 3
   },
   "file_extension": ".py",
   "mimetype": "text/x-python",
   "name": "python",
   "nbconvert_exporter": "python",
   "pygments_lexer": "ipython3",
   "version": "3.7.4"
  }
 },
 "nbformat": 4,
 "nbformat_minor": 4
}
